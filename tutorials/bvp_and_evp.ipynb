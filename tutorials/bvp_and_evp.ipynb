{
 "cells": [
  {
   "cell_type": "markdown",
   "metadata": {},
   "source": [
    "# Solving boundary value problems (BVP) and eigenvalue problems (EVP)"
   ]
  },
  {
   "cell_type": "markdown",
   "metadata": {},
   "source": [
    "**Table of contents**<a id='toc0_'></a>    \n",
    "1. [BVP in Cartesian coordinates (Laplace equation)](#toc1_)    \n",
    "2. [BVP on a disc (steady MHD pipe flow)](#toc2_)    \n",
    "3. [EVP on a disc (oscillations of circular membrane)](#toc3_)    \n",
    "3.1. [Implementing polar symmetry](#toc3_1_)    \n",
    "\n",
    "<!-- vscode-jupyter-toc-config\n",
    "\tnumbering=true\n",
    "\tanchor=true\n",
    "\tflat=true\n",
    "\tminLevel=2\n",
    "\tmaxLevel=6\n",
    "\t/vscode-jupyter-toc-config -->\n",
    "<!-- THIS CELL WILL BE REPLACED ON TOC UPDATE. DO NOT WRITE YOUR TEXT IN THIS CELL -->"
   ]
  },
  {
   "cell_type": "markdown",
   "metadata": {},
   "source": [
    "In this notebook, we show how to solve the linear boundary value problems and the linear eigenvalue problems using Trispectral and SciPy."
   ]
  },
  {
   "cell_type": "code",
   "execution_count": 1,
   "metadata": {},
   "outputs": [],
   "source": [
    "import os.path\n",
    "import numpy as np\n",
    "import scipy.linalg as la\n",
    "import matplotlib.pyplot as plt\n",
    "import trispectral as ts"
   ]
  },
  {
   "cell_type": "code",
   "execution_count": 2,
   "metadata": {},
   "outputs": [],
   "source": [
    "cwd = os.path.abspath(\"\")\n",
    "\n",
    "plt.style.use(os.path.join(cwd, \"../misc/mpl_styles/main.mplstyle\"))"
   ]
  },
  {
   "cell_type": "markdown",
   "metadata": {},
   "source": [
    "## 1. <a id='toc1_'></a>[BVP in Cartesian coordinates (Laplace equation)](#toc0_)"
   ]
  },
  {
   "cell_type": "markdown",
   "metadata": {},
   "source": [
    "Consider the following 2D Laplace equation:\n",
    "\n",
    "$\\nabla^2 u = 0$, for $0\\le x \\le a$ and $0\\le y \\le b$,\n",
    "\n",
    "with the boundary conditions,\n",
    "\n",
    "$u(0, y) = u(x, 0) = 0$,\n",
    "\n",
    "$u(a, y) = \\sin{(\\omega y)} / \\sin{(\\omega b)}$,\n",
    "\n",
    "$u(x, b) = \\sin{(\\omega x)} / \\sin{(\\omega a)}$.\n",
    "\n",
    "First, we define the parameters of the problem and the computational grid."
   ]
  },
  {
   "cell_type": "code",
   "execution_count": 3,
   "metadata": {},
   "outputs": [],
   "source": [
    "omega = 4.\n",
    "a = 2.\n",
    "b = 2."
   ]
  },
  {
   "cell_type": "code",
   "execution_count": 4,
   "metadata": {},
   "outputs": [],
   "source": [
    "nx = 61\n",
    "ny = 61\n",
    "\n",
    "grid = ts.Grid.from_bounds(\n",
    "    [0, a, nx], [0, b, ny], discs=[\"chebyshev\"] * 2\n",
    ")\n",
    "\n",
    "x, y = grid"
   ]
  },
  {
   "cell_type": "markdown",
   "metadata": {},
   "source": [
    "Before applying the boundary conditions, the left-hand side and the right-hand side matrices of this problem can be constructed as follows. "
   ]
  },
  {
   "cell_type": "code",
   "execution_count": 5,
   "metadata": {},
   "outputs": [],
   "source": [
    "lhs = ts.scalar_laplacian_operator(grid)\n",
    "rhs = np.zeros(nx * ny)"
   ]
  },
  {
   "cell_type": "markdown",
   "metadata": {},
   "source": [
    "The `boundary_indices` method of the `Grid` object allows us to immediately obtain the indices of the boundary nodes as they appear in the grid."
   ]
  },
  {
   "cell_type": "code",
   "execution_count": 6,
   "metadata": {},
   "outputs": [],
   "source": [
    "bnds = grid.boundary_indices()\n",
    "\n",
    "xmin, xmax = bnds[0]\n",
    "ymin, ymax = bnds[1]"
   ]
  },
  {
   "cell_type": "markdown",
   "metadata": {},
   "source": [
    "In 2D Cartesian geometry, `grid.boundary_indices()` returns the Python list `[(xmin, xmax), (ymin, ymax)]`, where `xmin`, `xmax`, `ymin`, and `ymax` are the NumPy arrays containing the indices of respective boundaries.\n",
    "\n",
    "We then replace the lines of `lhs` and `rhs` with indices `xmin`, `xmax`, `ymin`, and `ymax` with explicit boundary condition expressions. For example, the line\n",
    "\n",
    "```python\n",
    "lhs[xmin] = np.identity(nx * ny)[xmin]\n",
    "```\n",
    "\n",
    "results into `ny` linear equations implementing $u(0, y) = 0$ (note that `rhs` is already 0). However, in the case of inhomogeneous Dirichlet conditions, we have to explicitly replace the entries of `rhs`."
   ]
  },
  {
   "cell_type": "code",
   "execution_count": 7,
   "metadata": {},
   "outputs": [],
   "source": [
    "lhs[xmin] = np.identity(nx * ny)[xmin] # rhs already 0 at xmin\n",
    "\n",
    "lhs[xmax] = np.identity(nx * ny)[xmax]\n",
    "rhs[xmax] = np.sin(omega * y[xmax]) / np.sin(omega * b)\n",
    "\n",
    "lhs[ymin] = np.identity(nx * ny)[ymin] # rhs already 0 at ymin\n",
    "\n",
    "lhs[ymax] = np.identity(nx * ny)[ymax]\n",
    "rhs[ymax] = np.sin(omega * x[ymax]) / np.sin(omega * a)"
   ]
  },
  {
   "cell_type": "markdown",
   "metadata": {},
   "source": [
    "We then solve the BVP using SciPy's `linalg.solve` and plot the solution."
   ]
  },
  {
   "cell_type": "code",
   "execution_count": 8,
   "metadata": {},
   "outputs": [],
   "source": [
    "u = la.solve(lhs, rhs)"
   ]
  },
  {
   "cell_type": "code",
   "execution_count": 9,
   "metadata": {},
   "outputs": [
    {
     "data": {
      "image/png": "[encoded data removed]",
      "text/plain": [
       "<Figure size 500x400 with 2 Axes>"
      ]
     },
     "metadata": {},
     "output_type": "display_data"
    }
   ],
   "source": [
    "fig, ax = plt.subplots(1, 1, figsize=(5, 4), tight_layout=True)\n",
    "\n",
    "ax.set_aspect(b / a)\n",
    "\n",
    "ax.set_xlim(0, a)\n",
    "ax.set_ylim(0, b)\n",
    "\n",
    "ax.set_xlabel(\"$x$\")\n",
    "ax.set_ylabel(\"$y$\")\n",
    "\n",
    "c = ax.contourf(\n",
    "    x.reshape(nx, ny, order=\"F\"),\n",
    "    y.reshape(nx, ny, order=\"F\"),\n",
    "    u.reshape(nx, ny, order=\"F\"),\n",
    "    levels=np.linspace(np.min(u), np.max(u), 12),\n",
    "    cmap=plt.get_cmap(\"RdBu_r\"),\n",
    ")\n",
    "\n",
    "cbar = plt.colorbar(\n",
    "    c,\n",
    "    ax=ax,\n",
    "    ticks=[np.min(u), 0, np.max(u)],\n",
    "    location=\"right\",\n",
    "    shrink=0.7,\n",
    "    aspect=10,\n",
    ")\n",
    "cbar.ax.set_yticklabels(\n",
    "    [\n",
    "        f\"${np.min(u): .2f}$\",\n",
    "        0,\n",
    "        f\"${np.max(u): .2f}$\"\n",
    "    ]\n",
    ")\n",
    "\n",
    "ax.set_xticks(np.arange(0, a + 1, 1))\n",
    "ax.set_yticks(np.arange(0, b + 1, 1));\n",
    "\n",
    "# plt.savefig(\"ex_3.pdf\");"
   ]
  },
  {
   "cell_type": "markdown",
   "metadata": {},
   "source": [
    "## 2. <a id='toc2_'></a>[BVP on a disc (steady MHD pipe flow)](#toc0_)"
   ]
  },
  {
   "cell_type": "markdown",
   "metadata": {},
   "source": [
    "$\\nabla^2 U + Ha^2 \\left( \\cos{\\theta}\\frac{\\partial}{\\partial r} - \\frac{\\sin{\\theta}}{r}\\frac{\\partial}{\\partial \\theta}\\right)M = Re K$,\n",
    "\n",
    "$\\nabla^2 M + \\left( \\cos{\\theta}\\frac{\\partial}{\\partial r} - \\frac{\\sin{\\theta}}{r}\\frac{\\partial}{\\partial \\theta}\\right)U = 0$."
   ]
  },
  {
   "cell_type": "code",
   "execution_count": 10,
   "metadata": {},
   "outputs": [],
   "source": [
    "k = -1. # Re·K\n",
    "Ha = 50. # the Hartmann number\n",
    "conductance = 0\n",
    "wavevector = [0, None], [1, None], 0"
   ]
  },
  {
   "cell_type": "code",
   "execution_count": 11,
   "metadata": {},
   "outputs": [],
   "source": [
    "nphi, nr = 64, 64\n",
    "\n",
    "grid = ts.Grid.polar(nphi, nr)\n",
    "\n",
    "phi, r = grid[:, grid[1] > 0]"
   ]
  },
  {
   "cell_type": "code",
   "execution_count": 12,
   "metadata": {},
   "outputs": [],
   "source": [
    "magnetic_field = np.concatenate(\n",
    "    [-np.sin(phi), np.cos(phi), np.zeros(nphi * nr)]\n",
    ")"
   ]
  },
  {
   "cell_type": "code",
   "execution_count": 13,
   "metadata": {},
   "outputs": [],
   "source": [
    "laplacian = ts.scalar_laplacian_operator(grid, parity=1)\n",
    "directional_derivative = ts.directional_derivative_operator(\n",
    "    grid, a=magnetic_field, wavevector=wavevector\n",
    ").real[2 * nphi * nr :, 2 * nphi * nr :] # extract z component"
   ]
  },
  {
   "cell_type": "code",
   "execution_count": 14,
   "metadata": {},
   "outputs": [],
   "source": [
    "lhs = np.vstack(\n",
    "    [\n",
    "        np.hstack([laplacian, Ha**2 * directional_derivative]),\n",
    "        np.hstack([directional_derivative, laplacian]),\n",
    "    ]\n",
    ")\n",
    "\n",
    "rhs = np.zeros(2 * nphi * nr)\n",
    "rhs[: nphi * nr] = k"
   ]
  },
  {
   "cell_type": "code",
   "execution_count": 15,
   "metadata": {},
   "outputs": [],
   "source": [
    "bnd = grid.boundary_indices(axis=1)"
   ]
  },
  {
   "cell_type": "code",
   "execution_count": 16,
   "metadata": {},
   "outputs": [],
   "source": [
    "O, I = np.zeros([nphi * nr, nphi * nr]), np.identity(nphi * nr)\n",
    "\n",
    "lhs[bnd] = np.hstack([I[bnd], O[bnd]])\n",
    "rhs[bnd] = 0\n",
    "\n",
    "if conductance == 0: # M = 0\n",
    "    lhs[bnd + nphi * nr] = np.hstack([O[bnd], I[bnd]])\n",
    "else:\n",
    "    d1r = ts.DifferentialMatrix(grid, axis=1)\n",
    "\n",
    "    lhs[bnd + nphi * nr] = np.hstack(\n",
    "        [O[bnd], d1r[bnd] + 1 / conductance * I[bnd]]\n",
    "    )"
   ]
  },
  {
   "cell_type": "code",
   "execution_count": 17,
   "metadata": {},
   "outputs": [],
   "source": [
    "U = la.solve(lhs, rhs)[: nphi * nr]"
   ]
  },
  {
   "cell_type": "code",
   "execution_count": 18,
   "metadata": {},
   "outputs": [
    {
     "data": {
      "image/png": "[encoded data removed]",
      "text/plain": [
       "<Figure size 600x300 with 1 Axes>"
      ]
     },
     "metadata": {},
     "output_type": "display_data"
    }
   ],
   "source": [
    "fig, ax = plt.subplots(\n",
    "    1,\n",
    "    1,\n",
    "    figsize=(6, 3),\n",
    "    subplot_kw={\"projection\": \"polar\"},\n",
    "    tight_layout=True,\n",
    ")\n",
    "\n",
    "phi_m = phi.reshape(nphi, nr, order=\"F\")\n",
    "phi_m = np.vstack([phi_m, -phi_m[0]])\n",
    "r_m = r.reshape(nphi, nr, order=\"F\")\n",
    "r_m = np.vstack([r_m, r_m[0]])\n",
    "U_m = U.reshape(nphi, nr, order=\"F\")\n",
    "U_m = np.vstack([U_m, U_m[0]])\n",
    "\n",
    "ax.grid(False)\n",
    "ax.set_xticklabels([])\n",
    "ax.set_yticklabels([])\n",
    "\n",
    "ax.contourf(\n",
    "    phi_m,\n",
    "    r_m,\n",
    "    U_m,\n",
    "    levels=np.linspace(np.min(U_m), np.max(U_m), 31),\n",
    "    cmap=plt.get_cmap(\"plasma\"),\n",
    ");\n",
    "\n",
    "# plt.savefig(\"ex_4.pdf\");"
   ]
  },
  {
   "cell_type": "markdown",
   "metadata": {},
   "source": [
    "## 3. <a id='toc3_'></a>[EVP on a disc (oscillations of circular membrane)](#toc0_)"
   ]
  },
  {
   "cell_type": "code",
   "execution_count": 19,
   "metadata": {},
   "outputs": [],
   "source": [
    "nphi, nr = 64, 64\n",
    "\n",
    "grid = ts.Grid.polar(nphi, nr)\n",
    "\n",
    "phi, r = grid[:, grid[1] > 0]"
   ]
  },
  {
   "cell_type": "code",
   "execution_count": 20,
   "metadata": {},
   "outputs": [],
   "source": [
    "mat = ts.scalar_laplacian_operator(grid, parity=1)"
   ]
  },
  {
   "cell_type": "code",
   "execution_count": 21,
   "metadata": {},
   "outputs": [],
   "source": [
    "rmax = grid.boundary_indices(axis=1)\n",
    "\n",
    "mat[rmax] = -1e4 * np.identity(nr * nphi)[rmax]"
   ]
  },
  {
   "cell_type": "code",
   "execution_count": 22,
   "metadata": {},
   "outputs": [],
   "source": [
    "lam, u = la.eig(-mat)\n",
    "\n",
    "lam = np.sqrt(lam).real\n",
    "\n",
    "argsort = lam.argsort()\n",
    "lam, u = lam[argsort], u.real[:, argsort]"
   ]
  },
  {
   "cell_type": "code",
   "execution_count": 23,
   "metadata": {},
   "outputs": [
    {
     "name": "stdout",
     "output_type": "stream",
     "text": [
      "[1.         1.59334051 1.59334051 2.13554879 2.13554879 2.29541727\n",
      " 2.6530664  2.6530664  2.91729546]\n"
     ]
    }
   ],
   "source": [
    "print(lam[:9] / lam[0])"
   ]
  },
  {
   "cell_type": "code",
   "execution_count": 24,
   "metadata": {},
   "outputs": [],
   "source": [
    "fig, ax = plt.subplots(\n",
    "    3,\n",
    "    3,\n",
    "    figsize=(12, 9),\n",
    "    subplot_kw={\"projection\": \"polar\"},\n",
    "    tight_layout=True,\n",
    ")\n",
    "ax = ax.ravel()\n",
    "\n",
    "phi_m = phi.reshape(nphi, nr, order=\"F\")\n",
    "phi_m = np.vstack([phi_m, -phi_m[0]])\n",
    "r_m = r.reshape(nphi, nr, order=\"F\")\n",
    "r_m = np.vstack([r_m, r_m[0]])\n",
    "\n",
    "for i, axis in enumerate(ax):\n",
    "    axis.grid(False)\n",
    "    axis.set_xticklabels([])\n",
    "    axis.set_yticklabels([])\n",
    "\n",
    "    u_m = u[:, i].reshape(nphi, nr, order=\"F\")\n",
    "    u_m = np.vstack([u_m, u_m[0]])\n",
    "\n",
    "    axis.contourf(\n",
    "        phi_m,\n",
    "        r_m,\n",
    "        u_m,\n",
    "        levels=np.linspace(np.min(u_m), np.max(u_m), 10),\n",
    "        cmap=plt.get_cmap(\"RdBu_r\"),\n",
    "    )\n",
    "\n",
    "    axis.set_title(f\"$\\\\lambda / \\\\lambda_0 = {lam[i] / lam[0]: .6f}$\")\n",
    "\n",
    "    # plt.savefig(\"ex_5.pdf\");"
   ]
  },
  {
   "cell_type": "markdown",
   "metadata": {},
   "source": [
    "### 3.1. <a id='toc3_1_'></a>[Implementing polar symmetry](#toc0_)"
   ]
  },
  {
   "cell_type": "code",
   "execution_count": null,
   "metadata": {},
   "outputs": [],
   "source": []
  }
 ],
 "metadata": {
  "kernelspec": {
   "display_name": "production",
   "language": "python",
   "name": "python3"
  },
  "language_info": {
   "codemirror_mode": {
    "name": "ipython",
    "version": 3
   },
   "file_extension": ".py",
   "mimetype": "text/x-python",
   "name": "python",
   "nbconvert_exporter": "python",
   "pygments_lexer": "ipython3",
   "version": "3.12.0"
  }
 },
 "nbformat": 4,
 "nbformat_minor": 2
}
