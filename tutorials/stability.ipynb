{
 "cells": [
  {
   "cell_type": "markdown",
   "metadata": {},
   "source": [
    "# Analyzing the stability of shear flows"
   ]
  },
  {
   "cell_type": "code",
   "execution_count": 1,
   "metadata": {},
   "outputs": [],
   "source": [
    "import os.path\n",
    "import numpy as np\n",
    "import scipy.linalg as la\n",
    "import matplotlib.pyplot as plt\n",
    "import trispectral as ts\n",
    "from trispectral.stability import reduced_linear_operator"
   ]
  },
  {
   "cell_type": "code",
   "execution_count": 2,
   "metadata": {},
   "outputs": [],
   "source": [
    "cwd = os.path.abspath(\"\")\n",
    "\n",
    "plt.style.use(os.path.join(cwd, \"../misc/mpl_styles/main.mplstyle\"))"
   ]
  },
  {
   "cell_type": "markdown",
   "metadata": {},
   "source": [
    "## Wavevector"
   ]
  },
  {
   "cell_type": "markdown",
   "metadata": {},
   "source": [
    "Consider a 3D domain with homogeneous $x$ and $z$ directions, such that\n",
    "\n",
    "$f\\left( x, y, z \\right) = e^{i\\alpha z} \\hat{f}\\left( x, y \\right)$.\n",
    "\n",
    "The Laplacian of $f$ then reads:\n",
    "\n",
    "$\\nabla^2 f = e^{i\\alpha z} \\left( \\frac{\\partial^2}{\\partial x^2} + \\frac{\\partial^2}{\\partial y^2} - \\alpha^2 \\right)\\hat{f}$."
   ]
  },
  {
   "cell_type": "code",
   "execution_count": 3,
   "metadata": {},
   "outputs": [],
   "source": [
    "alpha = 2.\n",
    "wavevector = [0, None], [1, None], alpha"
   ]
  },
  {
   "cell_type": "code",
   "execution_count": 4,
   "metadata": {},
   "outputs": [],
   "source": [
    "nx = ny = 41\n",
    "\n",
    "grid = ts.Grid.from_bounds(\n",
    "    [-1., 1., nx], [-1., 1., ny], discs=[\"chebyshev\"] * 2\n",
    ")\n",
    "\n",
    "x, y = grid"
   ]
  },
  {
   "cell_type": "code",
   "execution_count": 5,
   "metadata": {},
   "outputs": [],
   "source": [
    "fhat = 1. - x**2 - y**2"
   ]
  },
  {
   "cell_type": "code",
   "execution_count": 6,
   "metadata": {},
   "outputs": [],
   "source": [
    "l = ts.scalar_laplacian_operator(grid, wavevector=wavevector) @ fhat"
   ]
  },
  {
   "cell_type": "code",
   "execution_count": 7,
   "metadata": {},
   "outputs": [],
   "source": [
    "assert np.allclose(l, np.full_like(x, -4) - alpha**2 * fhat)"
   ]
  },
  {
   "cell_type": "markdown",
   "metadata": {},
   "source": [
    "## Couette flow"
   ]
  },
  {
   "cell_type": "code",
   "execution_count": 3,
   "metadata": {},
   "outputs": [],
   "source": [
    "alpha = 0.25\n",
    "beta = 2.\n",
    "wavevector = alpha, [0, None], beta\n",
    "\n",
    "re = 800. # the Reynolds number"
   ]
  },
  {
   "cell_type": "code",
   "execution_count": 4,
   "metadata": {},
   "outputs": [],
   "source": [
    "ny = 61\n",
    "\n",
    "grid = ts.Grid.from_bounds([-1., 1., ny], discs=[\"chebyshev\"])\n",
    "\n",
    "y = grid[0]"
   ]
  },
  {
   "cell_type": "code",
   "execution_count": 5,
   "metadata": {},
   "outputs": [],
   "source": [
    "flow = np.zeros(3 * ny)\n",
    "flow[: ny] = y.copy()"
   ]
  },
  {
   "cell_type": "code",
   "execution_count": 6,
   "metadata": {},
   "outputs": [],
   "source": [
    "mat = reduced_linear_operator(\n",
    "    grid, flow, wavevector=wavevector, reynolds_number=re\n",
    ")"
   ]
  },
  {
   "cell_type": "code",
   "execution_count": 7,
   "metadata": {},
   "outputs": [],
   "source": [
    "ω = la.eigvals(mat)\n",
    "\n",
    "ω *= 1j\n",
    "\n",
    "ω = ω[ω.imag.argsort()[::-1]]\n",
    "ω = ω[~np.isclose(ω, -1000j)]"
   ]
  },
  {
   "cell_type": "code",
   "execution_count": 8,
   "metadata": {},
   "outputs": [
    {
     "name": "stdout",
     "output_type": "stream",
     "text": [
      "[-6.53753740e-01-0.22021787j  6.53753740e-01-0.22021787j\n",
      " -3.99902941e-01-0.25329463j  3.99902941e-01-0.25329463j\n",
      "  3.94622645e-01-0.36982719j -3.94622645e-01-0.36982719j\n",
      "  3.72838533e-01-0.48343132j -3.72838533e-01-0.48343132j\n",
      "  2.26052444e-10-0.4856143j  -1.82499726e-01-0.4924197j ]\n"
     ]
    }
   ],
   "source": [
    "print(ω[:10] / alpha)"
   ]
  },
  {
   "cell_type": "markdown",
   "metadata": {},
   "source": [
    "## Pipe Poiseuille flow using 2D formulation"
   ]
  },
  {
   "cell_type": "code",
   "execution_count": 9,
   "metadata": {},
   "outputs": [],
   "source": [
    "alpha = 1.\n",
    "wavevector = [0, None], [1, None], alpha\n",
    "\n",
    "re = 3000. # the Reynolds number"
   ]
  },
  {
   "cell_type": "code",
   "execution_count": 10,
   "metadata": {},
   "outputs": [],
   "source": [
    "nphi, nr = 12, 41\n",
    "\n",
    "grid = ts.Grid.polar(nphi, nr)\n",
    "\n",
    "phi, r = grid[:, grid[1] > 0]"
   ]
  },
  {
   "cell_type": "code",
   "execution_count": 11,
   "metadata": {},
   "outputs": [],
   "source": [
    "flow = np.zeros(3 * nphi * nr)\n",
    "flow[2 * nphi * nr :] = 1 - r**2"
   ]
  },
  {
   "cell_type": "code",
   "execution_count": 12,
   "metadata": {},
   "outputs": [],
   "source": [
    "mat = reduced_linear_operator(\n",
    "    grid, flow, wavevector=wavevector, reynolds_number=re\n",
    ")"
   ]
  },
  {
   "cell_type": "code",
   "execution_count": 13,
   "metadata": {},
   "outputs": [],
   "source": [
    "ω = la.eigvals(mat)\n",
    "\n",
    "ω *= 1j\n",
    "\n",
    "ω = ω[ω.imag.argsort()[::-1]]\n",
    "ω = ω[~np.isclose(ω, -1000j)]"
   ]
  },
  {
   "cell_type": "code",
   "execution_count": 14,
   "metadata": {},
   "outputs": [
    {
     "name": "stdout",
     "output_type": "stream",
     "text": [
      "[0.91146557-0.04127564j 0.91146557-0.04127564j 0.94836022-0.05197311j\n",
      " 0.9483602 -0.05197312j 0.88829766-0.06028569j 0.88829766-0.06028569j\n",
      " 0.37093509-0.06161902j 0.37093509-0.06161902j 0.86436392-0.08325398j\n",
      " 0.86436392-0.08325398j 0.35255493-0.08789898j 0.35255493-0.08789898j\n",
      " 0.95820554-0.08834603j 0.95820554-0.08834603j 0.85478882-0.08887016j]\n"
     ]
    }
   ],
   "source": [
    "print(ω[:15])"
   ]
  },
  {
   "cell_type": "markdown",
   "metadata": {},
   "source": [
    "## Quasi-static MHD duct flow with axial magnetic field"
   ]
  },
  {
   "cell_type": "code",
   "execution_count": 41,
   "metadata": {},
   "outputs": [],
   "source": [
    "alpha = 1.\n",
    "wavevector = [0, None], [1, None], alpha\n",
    "\n",
    "re = 1000. # the Reynolds number\n",
    "ha = 10. # the Hartmann number"
   ]
  },
  {
   "cell_type": "code",
   "execution_count": 42,
   "metadata": {},
   "outputs": [],
   "source": [
    "nx = ny = 41\n",
    "\n",
    "grid = ts.Grid.from_bounds(\n",
    "    [-1., 1., nx], [-1., 1., ny], discs=2 * [\"chebyshev\"]\n",
    ")\n",
    "\n",
    "x, y = grid"
   ]
  },
  {
   "cell_type": "markdown",
   "metadata": {},
   "source": [
    "### Computing the Lorentz force"
   ]
  },
  {
   "cell_type": "code",
   "execution_count": 43,
   "metadata": {},
   "outputs": [],
   "source": [
    "lhs = ts.scalar_laplacian_operator(grid, wavevector=wavevector)\n",
    "rhs = ts.curl_operator(grid, wavevector=wavevector)[2 * nx * ny :]"
   ]
  },
  {
   "cell_type": "code",
   "execution_count": 44,
   "metadata": {},
   "outputs": [],
   "source": [
    "bnds = grid.boundary_indices()\n",
    "bnds = np.concatenate([np.concatenate(bnd) for bnd in bnds])\n",
    "\n",
    "lhs[bnds] = np.identity(nx * ny)[bnds]\n",
    "rhs[bnds] = 0."
   ]
  },
  {
   "cell_type": "code",
   "execution_count": 45,
   "metadata": {},
   "outputs": [],
   "source": [
    "f = la.solve(lhs, rhs)"
   ]
  },
  {
   "cell_type": "code",
   "execution_count": 46,
   "metadata": {},
   "outputs": [],
   "source": [
    "f = -ha**2 / re * ts.gradient_operator(grid, wavevector=wavevector) @ f\n",
    "\n",
    "f[: nx * ny, : nx * ny] -= ha**2 / re * np.identity(nx * ny)\n",
    "f[\n",
    "    nx * ny : 2 * nx * ny, nx * ny : 2 * nx * ny\n",
    "] -= ha**2 / re * np.identity(nx * ny)"
   ]
  },
  {
   "cell_type": "markdown",
   "metadata": {},
   "source": [
    "### Computing eigenvalues"
   ]
  },
  {
   "cell_type": "code",
   "execution_count": 47,
   "metadata": {},
   "outputs": [],
   "source": [
    "flow = np.zeros(3 * nx * ny)\n",
    "flow[2 * nx * ny :] = (1 - x**2) * (1 - y**2)"
   ]
  },
  {
   "cell_type": "code",
   "execution_count": 48,
   "metadata": {},
   "outputs": [],
   "source": [
    "mat = reduced_linear_operator(\n",
    "    grid,\n",
    "    flow,\n",
    "    wavevector=wavevector,\n",
    "    reynolds_number=re,\n",
    "    external_force_operator=f,\n",
    ")"
   ]
  },
  {
   "cell_type": "code",
   "execution_count": 49,
   "metadata": {},
   "outputs": [],
   "source": [
    "ω = la.eigvals(mat)\n",
    "\n",
    "ω *= 1j\n",
    "\n",
    "ω = ω[ω.imag.argsort()[::-1]]\n",
    "ω = ω[~np.isclose(ω, -1000j)]"
   ]
  },
  {
   "cell_type": "code",
   "execution_count": 50,
   "metadata": {},
   "outputs": [
    {
     "name": "stdout",
     "output_type": "stream",
     "text": [
      "(0.9126383707938432-0.08902437171588663j)\n"
     ]
    }
   ],
   "source": [
    "print(ω[0])"
   ]
  },
  {
   "cell_type": "code",
   "execution_count": null,
   "metadata": {},
   "outputs": [],
   "source": []
  }
 ],
 "metadata": {
  "kernelspec": {
   "display_name": "production",
   "language": "python",
   "name": "python3"
  },
  "language_info": {
   "codemirror_mode": {
    "name": "ipython",
    "version": 3
   },
   "file_extension": ".py",
   "mimetype": "text/x-python",
   "name": "python",
   "nbconvert_exporter": "python",
   "pygments_lexer": "ipython3",
   "version": "3.12.0"
  }
 },
 "nbformat": 4,
 "nbformat_minor": 2
}
